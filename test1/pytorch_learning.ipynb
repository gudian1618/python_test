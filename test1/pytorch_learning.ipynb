{
 "cells": [
  {
   "cell_type": "code",
   "execution_count": 5,
   "metadata": {
    "collapsed": true
   },
   "outputs": [
    {
     "name": "stdout",
     "output_type": "stream",
     "text": [
      "tensor([[1.7753e+28, 7.0744e+31, 4.4561e+27],\n        [1.2401e-14, 1.8888e+31, 1.9421e+20],\n        [1.2689e+31, 3.2745e-12, 2.6209e+20],\n        [2.0530e-19, 6.8609e+22, 9.1041e-12],\n        [6.2609e+22, 4.7428e+30, 3.5833e-14]])\ntorch.Size([5, 3])\n"
     ]
    }
   ],
   "source": [
    "import torch\n",
    "x = torch.Tensor(5, 3)\n",
    "print(x)\n",
    "print(x.size())"
   ]
  },
  {
   "cell_type": "code",
   "execution_count": 6,
   "metadata": {},
   "outputs": [
    {
     "name": "stdout",
     "output_type": "stream",
     "text": [
      "tensor([[1.6131, 0.4714, 0.6380],\n        [0.7998, 1.5988, 1.3151],\n        [0.8644, 0.7555, 0.6001],\n        [0.8051, 0.7960, 0.6516],\n        [0.6091, 1.3769, 0.9910]])\n"
     ]
    }
   ],
   "source": [
    "x = torch.rand(5, 3)\n",
    "y = torch.rand(5, 3)\n",
    "z = x + y\n",
    "print(z)"
   ]
  },
  {
   "cell_type": "code",
   "execution_count": 16,
   "metadata": {},
   "outputs": [
    {
     "data": {
      "text/plain": [
       "True"
      ]
     },
     "execution_count": 16,
     "metadata": {},
     "output_type": "execute_result"
    }
   ],
   "source": [
    "torch.cuda.is_available()"
   ]
  },
  {
   "cell_type": "code",
   "execution_count": 29,
   "metadata": {},
   "outputs": [
    {
     "data": {
      "text/plain": [
       "torch.Size([5, 3])"
      ]
     },
     "execution_count": 29,
     "metadata": {},
     "output_type": "execute_result"
    }
   ],
   "source": [
    "x = x.cuda()\n",
    "y = y.cuda()\n",
    "z = x + y\n",
    "z.size()\n",
    "\n"
   ]
  },
  {
   "cell_type": "code",
   "execution_count": 43,
   "metadata": {
    "collapsed": false
   },
   "outputs": [
    {
     "data": {
      "image/png": "[encoded data removed]",
      "text/plain": [
       "<Figure size 432x288 with 1 Axes>"
      ]
     },
     "metadata": {},
     "output_type": "display_data"
    },
    {
     "name": "stdout",
     "output_type": "stream",
     "text": [
      "Loss: 0.000518 after 760 batches\n==> Learned function:\ty = +6.07 x^3+3.91 x^3+0.90 x^3+8.19 x^3-1.64\n==> Actual function:\ty = +6.13 x^3+3.89 x^3+0.86 x^3+8.20 x^3-1.62\n"
     ]
    }
   ],
   "source": [
    "from __future__ import print_function\n",
    "from itertools import count\n",
    "\n",
    "import numpy as np\n",
    "import torch\n",
    "import torch.autograd\n",
    "import torch.nn.functional as F\n",
    "from torch.autograd import Variable\n",
    "import matplotlib.pyplot as plt\n",
    "\n",
    "random_state = 5000\n",
    "torch.manual_seed(random_state)\n",
    "POLY_DEGREE = 4\n",
    "W_target = torch.randn(POLY_DEGREE, 1) * 5\n",
    "b_target = torch.randn(1) * 5\n",
    "\n",
    "\n",
    "def make_features(x):\n",
    "\t\"\"\"\"创建一个矩阵特征结构为[x,x^2,x^3,x^4]\"\"\"\n",
    "\tx = x.unsqueeze(1)\n",
    "\treturn torch.cat([x ** i for i in range(1, POLY_DEGREE + 1)], 1)\n",
    "\n",
    "\n",
    "def f(x):\n",
    "\t\"\"\"\"近似函数\"\"\"\n",
    "\treturn x.mm(W_target) + b_target[0]\n",
    "\n",
    "\n",
    "def poly_desc(W, b):\n",
    "\t\"\"\"\"生成多项式描述内容\"\"\"\n",
    "\tresult = 'y = '\n",
    "\tfor i, w in enumerate(W):\n",
    "\t\tresult += '{:+.2f} x^{}'.format(w, len(W) - 1)\n",
    "\tresult += '{:+.2f}'.format(b[0])\n",
    "\treturn result\n",
    "\n",
    "\n",
    "def get_batch(batch_size=32):\n",
    "\t\"\"\"\"创建批处理数据\"\"\"\n",
    "\trandom = torch.from_numpy(np.sort(torch.randn(batch_size)))\n",
    "\tx = make_features(random)\n",
    "\ty = f(x)\n",
    "\treturn Variable(x), Variable(y)\n",
    "\n",
    "# 声明模型\n",
    "fc = torch.nn.Linear(W_target.size(0), 1)\n",
    "\n",
    "for batch_idx in count(1):\n",
    "\t# 获取数据\n",
    "\tbatch_x, batch_y = get_batch()\n",
    "\t# 重置求导\n",
    "\tfc.zero_grad()\n",
    "\t# 前向传播\n",
    "\toutput = F.smooth_l1_loss(fc(batch_x), batch_y)\n",
    "\tloss = output.data\n",
    "\t# 后向传播\n",
    "\toutput.backward()\n",
    "\t# 应用导数\n",
    "\tfor param in fc.parameters():\n",
    "\t\tparam.data.add_(-0.1 * param.grad.data)\n",
    "\t\t\n",
    "\t# 停止条件\n",
    "\tif loss < 1e-3:\n",
    "\t\tplt.cla()\n",
    "\t\tplt.scatter(batch_x.data.numpy()[:,0], batch_y.data.numpy()[:,0],\n",
    "\t\t\t\t\tlabel='real curve')\n",
    "\t\tplt.plot(batch_x.data.numpy()[:,0], fc(batch_x).data.numpy()[:,0],\n",
    "\t\t\t\t label='fitting curve')\n",
    "\t\tplt.legend()\n",
    "\t\tplt.show()\n",
    "\t\tbreak\n",
    "\t\t\n",
    "print('Loss: {:.6f} after {} batches'.format(loss, batch_idx))\n",
    "print('==> Learned function:\\t' + poly_desc(fc.weight.data.view(-1),\t\t\t\t\t\t\t\t\t\t\tfc.bias.data))\n",
    "print('==> Actual function:\\t' + poly_desc(W_target.view(-1), b_target))\n",
    "\n"
   ]
  },
  {
   "cell_type": "code",
   "execution_count": 31,
   "metadata": {},
   "outputs": [
    {
     "name": "stdout",
     "output_type": "stream",
     "text": [
      "tensor([[0.6391, 0.7586, 0.6794],\n        [0.9771, 0.9804, 0.5580],\n        [0.8558, 0.4701, 0.6872],\n        [0.1746, 0.2371, 0.2437],\n        [0.2744, 0.8155, 0.6093]]) [[0.63909566 0.7585931  0.67940766]\n [0.977069   0.9804133  0.5579735 ]\n [0.85578376 0.47014773 0.68724155]\n [0.17461765 0.2370944  0.24373335]\n [0.27437842 0.81553364 0.6093008 ]] tensor([[0.6391, 0.7586, 0.6794],\n        [0.9771, 0.9804, 0.5580],\n        [0.8558, 0.4701, 0.6872],\n        [0.1746, 0.2371, 0.2437],\n        [0.2744, 0.8155, 0.6093]])\n"
     ]
    }
   ],
   "source": [
    "# tensor和numpy互相转化\n",
    "a = torch.rand(5, 3)\n",
    "b = a.numpy()\n",
    "c = torch.from_numpy(b)\n",
    "print(a, b, c)"
   ]
  },
  {
   "cell_type": "code",
   "execution_count": 45,
   "metadata": {},
   "outputs": [
    {
     "name": "stdout",
     "output_type": "stream",
     "text": [
      "tensor([-0.7647, -0.0349, -0.3636, -0.6705,  0.5447])\n"
     ]
    },
    {
     "name": "stdout",
     "output_type": "stream",
     "text": [
      "tensor([-0.6438, -0.0349, -0.3484, -0.5853,  0.4965])\n"
     ]
    }
   ],
   "source": [
    "m = torch.nn.Tanh()\n",
    "input = Variable(torch.randn(5))\n",
    "print(input)\n",
    "print(m(input))"
   ]
  },
  {
   "cell_type": "code",
   "execution_count": 51,
   "metadata": {},
   "outputs": [
    {
     "name": "stdout",
     "output_type": "stream",
     "text": [
      "tensor([[1., 1., 1.],\n        [1., 1., 1.]], requires_grad=True)\ntensor([[3., 3., 3.],\n        [3., 3., 3.]], grad_fn=<AddBackward0>)\n<AddBackward0 object at 0x0000028BB5995D30>\ntensor([[27., 27., 27.],\n        [27., 27., 27.]], grad_fn=<MulBackward0>) tensor(27., grad_fn=<MeanBackward1>)\n"
     ]
    }
   ],
   "source": [
    "import torch.autograd\n",
    "from torch.autograd import Variable\n",
    "\n",
    "x = Variable(torch.ones(2, 3), requires_grad=True)\n",
    "print(x)\n",
    "y = x +2\n",
    "print(y)\n",
    "print(y.grad_fn)\n",
    "z = y*y*3\n",
    "out = z.mean()\n",
    "print(z, out)\n",
    "out.backward()\n",
    "\n",
    "tt = torch.optim.\n"
   ]
  },
  {
   "cell_type": "code",
   "execution_count": 52,
   "metadata": {},
   "outputs": [],
   "source": [
    "import torch\n",
    "import matplotlib.pyplot as plt\n",
    "import torch.nn.functional as F\n",
    "from sklearn.datasets import load_iris\n",
    "from torch.autograd import Variable\n",
    "from torch.optim import SGD\n",
    "\n",
    "use_cuda = torch.cuda.is_available()\n",
    "print(\"use_cuda: \", use_cuda)\n",
    "\n",
    "iris = load_iris()\n",
    "print(iris.keys())\n",
    "\n",
    "\n",
    "\n",
    "\n"
   ]
  },
  {
   "cell_type": "code",
   "execution_count": null,
   "metadata": {},
   "outputs": [],
   "source": []
  }
 ],
 "metadata": {
  "kernelspec": {
   "display_name": "Python 2",
   "language": "python",
   "name": "python2"
  },
  "language_info": {
   "codemirror_mode": {
    "name": "ipython",
    "version": 2
   },
   "file_extension": ".py",
   "mimetype": "text/x-python",
   "name": "python",
   "nbconvert_exporter": "python",
   "pygments_lexer": "ipython2",
   "version": "2.7.6"
  }
 },
 "nbformat": 4,
 "nbformat_minor": 0
}
